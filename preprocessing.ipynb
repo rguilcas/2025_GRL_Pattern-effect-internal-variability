{
 "cells": [
  {
   "cell_type": "code",
   "execution_count": null,
   "id": "8d803f95",
   "metadata": {},
   "outputs": [],
   "source": []
  },
  {
   "cell_type": "markdown",
   "id": "0affe122",
   "metadata": {},
   "source": [
    "## Preprocess SST"
   ]
  },
  {
   "cell_type": "code",
   "execution_count": null,
   "id": "144841cc",
   "metadata": {},
   "outputs": [
    {
     "name": "stderr",
     "output_type": "stream",
     "text": [
      "/home/rguillaume/virtual_envs/phd/lib/python3.10/site-packages/gribapi/__init__.py:23: UserWarning: ecCodes 2.31.0 or higher is recommended. You are running version 2.16.0\n",
      "  warnings.warn(\n"
     ]
    }
   ],
   "source": [
    "SST_DIR = '/projets/EMC2/data/Observations/SST/'\n",
    "\n",
    "ersst = xr.open_dataset(f'{SST_DIR}/ERSSTv5.nc').sst\n",
    "cobe2 = xr.open_dataset(f'{SST_DIR}/COBE2.nc').sst\n",
    "hadisst = xr.open_dataset(f'{SST_DIR}/HadISST_sst.nc').sst\n",
    "\n",
    "hadisst = hadisst.where(hadisst>-100)\n",
    "hadisst = hadisst.where(hadisst.count('time')==hadisst.count('time').max())\n",
    "\n",
    "grid_out = xr.Dataset({'lat': (['lat'], np.arange(-89, 90, 2.)),\n",
    "                          'lon': (['lon'], np.arange(1, 360, 2.))})\n",
    "\n",
    "regridder_hadisst = xe.Regridder(hadisst, grid_out, 'conservative_normed', periodic=True)\n",
    "regridder_cobe2 = xe.Regridder(cobe2, grid_out, 'conservative_normed', periodic=True)\n",
    "regrdder_ersst = xe.Regridder(ersst, grid_out, 'conservative_normed', periodic=True) \n",
    "\n",
    "hadisst = regridder_hadisst(hadisst)\n",
    "cobe2 = regridder_cobe2(cobe2)\n",
    "ersst = regrdder_ersst(ersst)\n",
    "\n",
    "ersst = ersst.assign_coords(time=pd.date_range(f\"{ersst.time.dt.year.values[0]}-{ersst.time.dt.month.values[0]}\",freq='MS', periods=ersst.time.size))\n",
    "cobe2 = cobe2.assign_coords(time=pd.date_range(f\"{cobe2.time.dt.year.values[0]}-{cobe2.time.dt.month.values[0]}\",freq='MS', periods=cobe2.time.size))\n",
    "hadisst = hadisst.assign_coords(time=pd.date_range(f\"{hadisst.time.dt.year.values[0]}-{hadisst.time.dt.month.values[0]}\",freq='MS', periods=hadisst.time.size))\n",
    "\n",
    "ds_tos = xr.concat([ersst.assign_coords(product='ERSSTv5'),\n",
    "                    cobe2.assign_coords(product='COBE2'),\n",
    "                    hadisst.assign_coords(product='HadISST'),],dim='product')\n",
    "\n",
    "ds_tos = ds_tos.squeeze().drop_vars('lev')\n",
    "ds_tos = ds_tos.sortby('lat', ascending=False)\n",
    "ds_tos = ds_tos.where(ds_tos.count('product')==ds_tos.count('product').max())"
   ]
  },
  {
   "cell_type": "markdown",
   "id": "360a02f3",
   "metadata": {},
   "source": [
    "## Preprocess Green's Functions"
   ]
  },
  {
   "cell_type": "code",
   "execution_count": null,
   "id": "48f31880",
   "metadata": {},
   "outputs": [],
   "source": [
    "GF_names = dict(cam4='CAM4',cam5='CAM5', canesm5='CanESM5', echam6='ECHAM6', gfdlam4='GFDL-AM4',hadcm3='HadCM3')\n",
    "\n",
    "GF_DIR = '/projets/EMC2/data/Models/GFMIP/preliminary_spatial_feedbacks-main/data/'\n",
    "list_gfs = [k.split('.')[0] for k in os.listdir(GF_DIR)]\n",
    "all_gfs = []\n",
    "for gf in list_gfs:\n",
    "    ds = xr.open_dataset(f\"{GF_DIR}/{gf}.nc\").rename(longitude='lon', latitude='lat')\n",
    "    if gf == 'hadcm3':\n",
    "        ds = ds.assign_coords(latitude_bnds=ds.latitude_bnds.where(np.abs(ds.latitude_bnds)!=90, -ds.latitude_bnds))\n",
    "    if gf=='cam4':\n",
    "        da = ds.spatial_feedbacks_from_warming\n",
    "    else:\n",
    "        da = ds.spatial_feedbacks_from_both\n",
    "    ds['mask'] = (da!=0).astype(int)\n",
    "    regridder_gf = xe.Regridder(ds, grid_out, 'conservative_normed', periodic=True)\n",
    "    GF_regridded = regridder_gf(da).assign_coords(GF_source=gf)\n",
    "    all_gfs.append(GF_regridded)\n",
    "GF = xr.concat(all_gfs, dim='GF_source')\n",
    "\n",
    "GF = GF.where(GF!=0)\n",
    "# GF = GF.where(GF.count('GF_source')==GF.count('GF_source').max(),0)\n",
    "GF = xr.concat([GF, GF.mean('GF_source').assign_coords(GF_source='mean')], dim='GF_source')\n",
    "\n",
    "cell_area = xr.zeros_like(GF.isel(GF_source=0))+np.cos(np.deg2rad(GF.lat))\n",
    "cell_ratio = cell_area/cell_area.sum(['lon','lat'])\n",
    "GF = (GF*cell_ratio).fillna(0)"
   ]
  }
 ],
 "metadata": {
  "language_info": {
   "name": "python"
  }
 },
 "nbformat": 4,
 "nbformat_minor": 5
}
